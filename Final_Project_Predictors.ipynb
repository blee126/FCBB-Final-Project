{
 "cells": [
  {
   "cell_type": "code",
   "execution_count": 2,
   "metadata": {},
   "outputs": [],
   "source": [
    "import pandas as pd\n",
    "import numpy as np\n",
    "import matplotlib.pyplot as plt\n",
    "\n",
    "from sklearn import svm, datasets\n",
    "from sklearn import metrics\n",
    "from sklearn.model_selection import StratifiedKFold\n",
    "from sklearn.naive_bayes import GaussianNB\n",
    "from sklearn.discriminant_analysis import LinearDiscriminantAnalysis as LDA\n",
    "from sklearn.discriminant_analysis import QuadraticDiscriminantAnalysis as QDA\n",
    "from sklearn.ensemble import RandomForestClassifier\n",
    "from sklearn import tree\n",
    "from sklearn import neighbors"
   ]
  },
  {
   "cell_type": "code",
   "execution_count": 10,
   "metadata": {
    "scrolled": true
   },
   "outputs": [
    {
     "data": {
      "text/plain": [
       "array([[-4.20796672e+01, -4.41809060e+01, -8.23556405e+00,\n",
       "        -2.10610171e+01,  5.92628638e+00,  1.74256176e+01],\n",
       "       [-7.95082426e+00, -2.52315172e+01,  3.82024221e+01,\n",
       "         2.21613053e+01, -3.72148192e+01, -4.51981820e+01],\n",
       "       [-5.78174453e+01,  1.64446497e+01, -1.74964240e+01,\n",
       "        -7.30154682e+01,  3.51776209e+01, -5.15688615e+00],\n",
       "       [ 3.20046386e+01, -6.11477251e+01,  1.40598729e+01,\n",
       "         1.35143043e+02,  3.70153008e+01, -4.75693907e+00],\n",
       "       [-1.08689107e+02, -5.44398554e-01, -5.10658159e+01,\n",
       "        -9.54904683e+00,  1.90864948e+01,  1.55254352e+01],\n",
       "       [-8.29255031e+01,  3.71793240e+00, -3.63794163e+01,\n",
       "         2.83623102e+01, -4.22677720e+01,  1.18424602e+01],\n",
       "       [-3.91851614e+01, -3.39056363e+01, -2.53781315e+01,\n",
       "        -2.42956651e+01, -1.05155089e+02, -1.78773513e+01],\n",
       "       [-2.68794225e+01, -3.72554989e+01,  2.80122351e+01,\n",
       "         3.52848051e+01,  3.51707704e+01,  3.11212989e+01],\n",
       "       [ 1.11019753e+00, -9.49093016e+01,  3.41719662e+01,\n",
       "         8.81513860e-02,  7.53874032e+00, -1.50904027e+01],\n",
       "       [-1.39903671e+01, -3.06060410e+01,  1.88533712e+01,\n",
       "         1.25896373e+00, -2.90744350e+01,  2.08372761e+01],\n",
       "       [-1.09355681e+02,  1.97905634e+01, -1.09621669e+01,\n",
       "         1.53650461e+01, -3.18146594e+01,  3.57715877e+00],\n",
       "       [-3.13789942e+01, -4.71854481e+01, -2.12052708e+01,\n",
       "        -8.61192790e+00, -1.52148485e+01,  2.39760167e+01],\n",
       "       [-5.58097897e+01, -6.50104028e+00, -6.26829151e+01,\n",
       "         2.68079454e+01,  6.35519536e+01,  4.28201496e+01],\n",
       "       [ 2.64549324e+01, -5.10297200e+01, -8.11662792e+00,\n",
       "         5.79179037e+01,  1.98389344e+01, -1.08948337e+01],\n",
       "       [ 1.61416334e+00, -2.87345401e+01,  9.64177642e+00,\n",
       "         1.88926554e+01,  5.58563156e+01, -1.97959273e-01],\n",
       "       [-2.89582620e+01, -1.60266932e+01, -1.67661746e+01,\n",
       "         1.28534539e+00, -7.37236058e+00, -5.17625192e+01],\n",
       "       [-1.98818676e+01, -9.02177869e+01,  5.99095570e+01,\n",
       "        -4.73534323e+01, -3.22031024e+01,  2.93849709e+01],\n",
       "       [-4.42649156e+01,  3.76778907e+01, -4.42215012e+01,\n",
       "         1.55106567e+00, -2.47871204e+01, -2.11023974e+01],\n",
       "       [-3.01747934e+01, -2.27872360e+01,  1.77300118e+01,\n",
       "        -2.05547366e+01, -4.03959418e+01, -9.10972865e+00],\n",
       "       [-2.43874240e+01, -1.19294666e+01,  2.78414822e+01,\n",
       "        -4.18672520e+01,  2.14567317e+01, -7.24307014e+01],\n",
       "       [ 1.14695142e+00,  5.73645708e+01,  3.96906106e+01,\n",
       "         8.66124095e+00,  1.86690132e+00, -7.35270587e+00],\n",
       "       [ 1.14695142e+00,  5.73645708e+01,  3.96906106e+01,\n",
       "         8.66124095e+00,  1.86690132e+00, -7.35270587e+00],\n",
       "       [-2.06455370e+01,  2.03271327e+01,  7.83625990e+00,\n",
       "        -2.26473084e+01,  3.10772564e+01,  3.91471433e+01],\n",
       "       [-4.96885940e+01,  6.67721887e+01,  1.58583049e+01,\n",
       "         2.66383942e+01, -1.40100260e+01,  4.22888912e+01],\n",
       "       [ 7.06889288e+01, -1.72527159e+01, -6.85512882e+01,\n",
       "         3.15562645e+01, -5.75378449e+01, -1.96447606e+01],\n",
       "       [ 8.02007382e+01,  1.64958525e+01,  5.44687885e+00,\n",
       "        -4.69288594e+00, -3.68181576e+01,  2.43558193e+01],\n",
       "       [ 5.42107777e+01, -2.81478870e+01,  4.88003188e+01,\n",
       "        -6.25053502e+01,  4.97030646e+01,  3.93833825e+01],\n",
       "       [ 4.42655852e+01, -2.52694080e+01,  7.78818372e+00,\n",
       "        -4.77247172e+01,  2.60496328e+01, -9.15124689e+00],\n",
       "       [-5.31400098e+01, -2.39958196e+01, -3.34244389e+01,\n",
       "        -1.21492905e+01,  6.52110579e+01, -4.64621765e+01],\n",
       "       [-3.47336295e+01,  4.02315562e+01, -4.20751872e+00,\n",
       "        -2.30338649e+01,  1.62222040e+01,  9.95305932e-01],\n",
       "       [ 5.10927685e+01, -1.73251947e+01,  1.93547001e+01,\n",
       "        -1.43453442e+01, -4.01690670e+01,  3.58374845e+01],\n",
       "       [ 7.66174456e+01, -3.29784031e+01, -6.45888792e+00,\n",
       "         2.11384529e+00, -2.63817292e+01,  3.94024407e+01],\n",
       "       [ 8.20647359e+01,  1.90861145e+01, -3.67955443e+01,\n",
       "         1.14597590e+01,  5.02195215e-01,  1.69894692e+01],\n",
       "       [ 8.90601912e+01, -1.28394457e+01, -3.18362406e+01,\n",
       "        -5.74137974e+01,  1.95676669e+01, -2.66883123e+01],\n",
       "       [ 6.95319459e+01,  2.07299648e+01, -1.21326326e+02,\n",
       "        -1.50342373e+01,  2.13936987e+01, -5.69736809e+00],\n",
       "       [ 1.06354050e+02,  1.25054422e+01,  1.09687615e+01,\n",
       "        -5.09436246e+00,  7.50856651e+00, -3.13481340e+01],\n",
       "       [ 6.47585620e+01,  6.67594409e+01, -4.01698910e+01,\n",
       "        -1.38427321e+01, -1.23081965e+01,  2.83227721e+01],\n",
       "       [ 2.38786754e+01,  1.79111057e+01,  2.96976704e+00,\n",
       "         4.82769461e+01,  1.80236840e+00, -1.91942521e+01],\n",
       "       [ 1.14695142e+00,  5.73645708e+01,  3.96906106e+01,\n",
       "         8.66124095e+00,  1.86690132e+00, -7.35270587e+00],\n",
       "       [ 1.14695142e+00,  5.73645708e+01,  3.96906106e+01,\n",
       "         8.66124095e+00,  1.86690132e+00, -7.35270587e+00],\n",
       "       [ 1.14695142e+00,  5.73645708e+01,  3.96906106e+01,\n",
       "         8.66124095e+00,  1.86690132e+00, -7.35270587e+00],\n",
       "       [ 1.14695142e+00,  5.73645708e+01,  3.96906106e+01,\n",
       "         8.66124095e+00,  1.86690132e+00, -7.35270587e+00],\n",
       "       [ 1.14695142e+00,  5.73645708e+01,  3.96906106e+01,\n",
       "         8.66124095e+00,  1.86690132e+00, -7.35270587e+00]])"
      ]
     },
     "execution_count": 10,
     "metadata": {},
     "output_type": "execute_result"
    }
   ],
   "source": [
    "mat = pd.read_csv('pcs.csv', sep = \" \").values\n",
    "mat"
   ]
  },
  {
   "cell_type": "code",
   "execution_count": 11,
   "metadata": {
    "scrolled": true
   },
   "outputs": [
    {
     "name": "stdout",
     "output_type": "stream",
     "text": [
      "0.875\n"
     ]
    }
   ],
   "source": [
    "random_state = np.random.RandomState(0)\n",
    "cv = StratifiedKFold(n_splits=5)\n",
    "classifier = neighbors.KNeighborsClassifier(6)\n",
    "y = np.concatenate((np.ones(22), np.zeros(21))) #actual class labels (cases: 0-22, controls: 23-42)\n",
    "\n",
    "aucs = []\n",
    "for i, (train, test) in enumerate(cv.split(mat, y)):\n",
    "    ypred = classifier.fit(mat[train], y[train]).predict(mat[test])\n",
    "    fpr, tpr, thresholds = metrics.roc_curve(y[test], ypred, pos_label=1)\n",
    "    aucs.append(metrics.auc(fpr, tpr))\n",
    "print(np.mean(aucs))"
   ]
  },
  {
   "cell_type": "code",
   "execution_count": 12,
   "metadata": {},
   "outputs": [
    {
     "name": "stdout",
     "output_type": "stream",
     "text": [
      "0.835\n"
     ]
    }
   ],
   "source": [
    "classifier = svm.SVC(kernel='linear')\n",
    "X = list(map(float, \"1.6880367 1.3761867 1.4387857 1.2358717 1.6663818 1.7164176 1.4356663 1.4896716 1.4273986 1.5295093 1.9050754 1.6545259 1.5417555 1.0901908 1.2457502 1.4991921 1.4298004 1.3956367 1.5438028 1.4636095 1.0000000 1.0000000 1.3144254 1.1627663 0.8731719 0.6733056 0.8708223 0.8515857 1.4914607 1.2799251 0.9160978 0.7803538 0.6643310 0.7698050 0.7254972 0.6521681 0.7162422 0.9242445 1.0000000 1.0000000 1.0000000 1.0000000 1.0000000\".split(\" \")))\n",
    "X = np.array(X).reshape(-1, 1)\n",
    "aucs = []\n",
    "for i, (train, test) in enumerate(cv.split(X, y)):\n",
    "    ypred = classifier.fit(X[train], y[train]).predict(X[test])\n",
    "    fpr, tpr, thresholds = metrics.roc_curve(y[test], ypred, pos_label=1)\n",
    "    aucs.append(metrics.auc(fpr, tpr))\n",
    "print(np.mean(aucs))"
   ]
  },
  {
   "cell_type": "code",
   "execution_count": 14,
   "metadata": {},
   "outputs": [
    {
     "name": "stdout",
     "output_type": "stream",
     "text": [
      "[0. 0. 0. 0. 0. 0. 0. 0. 0. 0. 0. 0. 0. 0. 1. 1. 0. 1. 1. 0. 0. 0. 1.]\n"
     ]
    }
   ],
   "source": [
    "mat2 = pd.read_csv('pcsOUT.csv', sep = \" \").values #predicting outside samples (ppl with asthma, asthma+nasal polyps)\n",
    "classifier = neighbors.KNeighborsClassifier(6)\n",
    "classifier.fit(mat, y)\n",
    "ypred = classifier.predict(mat2)\n",
    "print(ypred)"
   ]
  },
  {
   "cell_type": "code",
   "execution_count": 15,
   "metadata": {},
   "outputs": [
    {
     "name": "stdout",
     "output_type": "stream",
     "text": [
      "[0. 0. 0. 0. 0. 0. 0. 0. 0. 0. 0. 0. 0. 0. 1. 1. 0. 1. 0. 0. 0. 0. 1.]\n"
     ]
    }
   ],
   "source": [
    "classifier = svm.SVC(kernel='linear')\n",
    "classifier.fit(mat, y)\n",
    "ypred = classifier.predict(mat2)\n",
    "print(ypred)"
   ]
  },
  {
   "cell_type": "code",
   "execution_count": 16,
   "metadata": {},
   "outputs": [
    {
     "name": "stdout",
     "output_type": "stream",
     "text": [
      "[0. 0. 0. 0. 0. 0. 0. 0. 0. 0. 0. 0. 0. 0. 1. 1. 0. 1. 0. 0. 0. 0. 1.]\n"
     ]
    }
   ],
   "source": [
    "classifier = GaussianNB()\n",
    "classifier.fit(mat, y)\n",
    "ypred = classifier.predict(mat2)\n",
    "print(ypred)"
   ]
  },
  {
   "cell_type": "code",
   "execution_count": null,
   "metadata": {},
   "outputs": [],
   "source": []
  }
 ],
 "metadata": {
  "kernelspec": {
   "display_name": "Python 3",
   "language": "python",
   "name": "python3"
  },
  "language_info": {
   "codemirror_mode": {
    "name": "ipython",
    "version": 3
   },
   "file_extension": ".py",
   "mimetype": "text/x-python",
   "name": "python",
   "nbconvert_exporter": "python",
   "pygments_lexer": "ipython3",
   "version": "3.7.4"
  }
 },
 "nbformat": 4,
 "nbformat_minor": 2
}
